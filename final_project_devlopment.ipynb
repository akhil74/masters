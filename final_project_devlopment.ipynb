{
  "nbformat": 4,
  "nbformat_minor": 0,
  "metadata": {
    "colab": {
      "name": "final project devlopment.ipynb",
      "provenance": []
    },
    "kernelspec": {
      "name": "python3",
      "display_name": "Python 3"
    },
    "language_info": {
      "name": "python"
    }
  },
  "cells": [
    {
      "cell_type": "code",
      "execution_count": null,
      "metadata": {
        "colab": {
          "base_uri": "https://localhost:8080/",
          "height": 346
        },
        "id": "U28aNLbLHuoc",
        "outputId": "fb7d69d9-d8cb-4bba-e9df-ad00bd49f8bc"
      },
      "outputs": [
        {
          "output_type": "stream",
          "name": "stdout",
          "text": [
            "Collecting pyspark\n",
            "  Downloading pyspark-3.2.0.tar.gz (281.3 MB)\n",
            "\u001b[K     |████████████████████████████████| 281.3 MB 53 kB/s \n",
            "\u001b[?25hCollecting py4j==0.10.9.2\n",
            "  Downloading py4j-0.10.9.2-py2.py3-none-any.whl (198 kB)\n",
            "\u001b[K     |████████████████████████████████| 198 kB 89.7 MB/s \n",
            "\u001b[?25hBuilding wheels for collected packages: pyspark\n",
            "  Building wheel for pyspark (setup.py) ... \u001b[?25l\u001b[?25hdone\n",
            "  Created wheel for pyspark: filename=pyspark-3.2.0-py2.py3-none-any.whl size=281805912 sha256=e51789319489b9b1fd8d41dc48074e784792e7e347bb1a7c928adcb2e73cd7df\n",
            "  Stored in directory: /root/.cache/pip/wheels/0b/de/d2/9be5d59d7331c6c2a7c1b6d1a4f463ce107332b1ecd4e80718\n",
            "Successfully built pyspark\n",
            "Installing collected packages: py4j, pyspark\n",
            "Successfully installed py4j-0.10.9.2 pyspark-3.2.0\n"
          ]
        },
        {
          "output_type": "display_data",
          "data": {
            "application/vnd.colab-display-data+json": {
              "pip_warning": {
                "packages": [
                  "py4j",
                  "pyspark"
                ]
              }
            }
          },
          "metadata": {}
        },
        {
          "output_type": "execute_result",
          "data": {
            "text/plain": [
              "<module 'pyspark' from '/content/spark-3.0.0-bin-hadoop3.2/python/pyspark/__init__.py'>"
            ]
          },
          "metadata": {},
          "execution_count": 1
        }
      ],
      "source": [
        "\n",
        "# install java\n",
        "!apt-get install openjdk-8-jdk-headless -qq > /dev/null\n",
        "\n",
        "# install spark (change the version number if needed)\n",
        "!wget -q https://archive.apache.org/dist/spark/spark-3.0.0/spark-3.0.0-bin-hadoop3.2.tgz\n",
        "\n",
        "# unzip the spark file to the current folder\n",
        "!tar xf spark-3.0.0-bin-hadoop3.2.tgz\n",
        "\n",
        "# set your spark folder to your system path environment. \n",
        "import os\n",
        "os.environ[\"JAVA_HOME\"] = \"/usr/lib/jvm/java-8-openjdk-amd64\"\n",
        "os.environ[\"SPARK_HOME\"] = \"/content/spark-3.0.0-bin-hadoop3.2\"\n",
        "\n",
        "\n",
        "# install findspark using pip\n",
        "!pip install -q findspark\n",
        "\n",
        "import findspark\n",
        "findspark.init()\n",
        "findspark.find()\n",
        "import pyspark\n",
        "findspark.find()\n",
        "\n",
        "!pip install pyspark\n",
        "\n",
        "pyspark"
      ]
    },
    {
      "cell_type": "code",
      "source": [
        "\n",
        "from google.colab import drive\n",
        "drive.mount('/content/gdrive')"
      ],
      "metadata": {
        "colab": {
          "base_uri": "https://localhost:8080/"
        },
        "id": "sCixbHfanQrT",
        "outputId": "0fdcff74-a823-466f-f4a2-d530f578a054"
      },
      "execution_count": null,
      "outputs": [
        {
          "output_type": "stream",
          "name": "stdout",
          "text": [
            "Mounted at /content/gdrive\n"
          ]
        }
      ]
    },
    {
      "cell_type": "code",
      "source": [
        "from pyspark.sql import SparkSession\n",
        "from pyspark import SparkContext \n",
        "# sc = SparkContext.getOrCreate() \n",
        "spark = SparkSession.builder.appName(\"DataFrame\").getOrCreate()\n",
        "df_games = spark.read.format(\"json\").load(\"/content/gdrive/MyDrive/games_2012_copy.json\")\n",
        "df_games.printSchema()     "
      ],
      "metadata": {
        "colab": {
          "base_uri": "https://localhost:8080/"
        },
        "id": "1BH16fAanZDe",
        "outputId": "1bc846b1-77b5-4566-e584-5283611af7c2"
      },
      "execution_count": null,
      "outputs": [
        {
          "output_type": "stream",
          "name": "stdout",
          "text": [
            "root\n",
            " |-- date: string (nullable = true)\n",
            " |-- defense_interception_touchdowns: long (nullable = true)\n",
            " |-- defense_interception_yards: long (nullable = true)\n",
            " |-- defense_interceptions: long (nullable = true)\n",
            " |-- defense_sacks: double (nullable = true)\n",
            " |-- defense_safeties: long (nullable = true)\n",
            " |-- defense_tackle_assists: long (nullable = true)\n",
            " |-- defense_tackles: long (nullable = true)\n",
            " |-- field_goal_attempts: long (nullable = true)\n",
            " |-- field_goal_makes: long (nullable = true)\n",
            " |-- game_location: string (nullable = true)\n",
            " |-- game_number: string (nullable = true)\n",
            " |-- game_won: boolean (nullable = true)\n",
            " |-- kick_return_attempts: long (nullable = true)\n",
            " |-- kick_return_touchdowns: long (nullable = true)\n",
            " |-- kick_return_yards: long (nullable = true)\n",
            " |-- opponent: string (nullable = true)\n",
            " |-- opponent_goals: long (nullable = true)\n",
            " |-- opponent_goalsage: long (nullable = true)\n",
            " |-- opponent_goalsdate: long (nullable = true)\n",
            " |-- opponent_score: string (nullable = true)\n",
            " |-- passing_attempts: long (nullable = true)\n",
            " |-- passing_completions: long (nullable = true)\n",
            " |-- passing_interceptions: long (nullable = true)\n",
            " |-- passing_rating: double (nullable = true)\n",
            " |-- passing_sacks: long (nullable = true)\n",
            " |-- passing_sacks_yards_lost: long (nullable = true)\n",
            " |-- passing_touchdowns: long (nullable = true)\n",
            " |-- passing_yards: long (nullable = true)\n",
            " |-- player_id: long (nullable = true)\n",
            " |-- player_team_score: string (nullable = true)\n",
            " |-- point_after_attemps: long (nullable = true)\n",
            " |-- point_after_makes: long (nullable = true)\n",
            " |-- punt_return_attempts: long (nullable = true)\n",
            " |-- punt_return_touchdowns: long (nullable = true)\n",
            " |-- punt_return_yards: long (nullable = true)\n",
            " |-- punting_attempts: long (nullable = true)\n",
            " |-- punting_blocked: long (nullable = true)\n",
            " |-- punting_yards: long (nullable = true)\n",
            " |-- receiving_receptions: long (nullable = true)\n",
            " |-- receiving_targets: long (nullable = true)\n",
            " |-- receiving_touchdowns: long (nullable = true)\n",
            " |-- receiving_yards: long (nullable = true)\n",
            " |-- rushing_attempts: long (nullable = true)\n",
            " |-- rushing_touchdowns: long (nullable = true)\n",
            " |-- rushing_yards: long (nullable = true)\n",
            " |-- team: string (nullable = true)\n",
            " |-- year: string (nullable = true)\n",
            "\n"
          ]
        }
      ]
    },
    {
      "cell_type": "code",
      "source": [
        "#game_location\n",
        "from pyspark.sql.functions import when\n",
        "df_games = spark.read.format(\"json\").load(\"/content/gdrive/MyDrive/games_2012_copy.json\")\n",
        "df_games.createOrReplaceTempView('df_games')\n",
        "\n",
        "df = spark.sql('select game_location, count(game_location) as games_played,year from df_games where year=\"2014\" group by game_location,year')\n",
        "\n",
        "df_games_played = df.withColumn(\"game_location\", when(df.game_location == \"N\",\"NRG Stadium, Houston\")\n",
        "                                 .when(df.game_location == \"H\",\"Hawaii\")\n",
        "                                 .when(df.game_location == \"A\",\"Arizona\")\n",
        "                                 .when(df.game_location.isNull() ,\"\")\n",
        "                                 .otherwise(df.game_location))\n",
        "# df_games_played.show()\n"
      ],
      "metadata": {
        "id": "8mznmFrlt37J"
      },
      "execution_count": null,
      "outputs": []
    },
    {
      "cell_type": "code",
      "source": [
        "import matplotlib.pyplot as plt\n",
        "\n",
        "game_location1 = [val.game_location for val in df_games_played.select('game_location').collect()]\n",
        "games_played1 = [val.games_played for val in df_games_played.select('games_played').collect()]\n",
        "\n",
        "\n",
        "\n",
        "\n",
        "from matplotlib import pyplot as plt\n",
        "import numpy as np\n",
        " \n",
        "plt.pie(games_played1, labels=game_location1,\n",
        "autopct='%1.1f%%', shadow=True, startangle=140)"
      ],
      "metadata": {
        "colab": {
          "base_uri": "https://localhost:8080/",
          "height": 404
        },
        "id": "rGq4Vp3FzkKs",
        "outputId": "3f334c4c-0f66-4329-d854-f64ebc9cab93"
      },
      "execution_count": null,
      "outputs": [
        {
          "output_type": "execute_result",
          "data": {
            "text/plain": [
              "([<matplotlib.patches.Wedge at 0x7f83488c9490>,\n",
              "  <matplotlib.patches.Wedge at 0x7f83488c9f90>,\n",
              "  <matplotlib.patches.Wedge at 0x7f83488d4b50>],\n",
              " [Text(-0.7125008685272214, -0.8380587761893288, 'Hawaii'),\n",
              "  Text(0.7220762908424342, 0.8298227703571605, 'Arizona'),\n",
              "  Text(-0.8344749996891764, 0.7166948268919968, 'NRG Stadium, Houston')],\n",
              " [Text(-0.38863683737848437, -0.45712296883054293, '49.8%'),\n",
              "  Text(0.39385979500496404, 0.45263060201299654, '49.8%'),\n",
              "  Text(-0.4551681816486416, 0.3909244510319982, '0.4%')])"
            ]
          },
          "metadata": {},
          "execution_count": 12
        },
        {
          "output_type": "display_data",
          "data": {
            "image/png": "[encoded data removed]",
            "text/plain": [
              "<Figure size 432x288 with 1 Axes>"
            ]
          },
          "metadata": {}
        }
      ]
    },
    {
      "cell_type": "code",
      "source": [
        "#Winning team\n",
        "\n",
        "from pyspark.sql.functions import *\n",
        "from pyspark.sql import SparkSession\n",
        "from pyspark import SparkContext \n",
        "# sc = SparkContext.getOrCreate() \n",
        "spark = SparkSession.builder.appName(\"DataFrame\").getOrCreate()\n",
        "df_games = spark.read.format(\"json\").load(\"/content/gdrive/MyDrive/games_2012_copy.json\")\n",
        "\n",
        "df_games = df_games.select('game_won','team').filter(\"game_won ='true'\").filter(\"year = 2015\")\n",
        "df_games.createOrReplaceTempView(\"df_games\")\n",
        "\n",
        "df_won = spark.sql('select count(team) as win_team,team from df_games group by game_won,team limit 10').orderBy(col(\"win_team\").desc())#.show()"
      ],
      "metadata": {
        "id": "iitgYZQB2Slv"
      },
      "execution_count": null,
      "outputs": []
    },
    {
      "cell_type": "code",
      "source": [
        "import matplotlib.pyplot as plt\n",
        "\n",
        "game_won1 = [val.win_team for val in df_won.select('win_team').collect()]\n",
        "team1 = [val.team for val in df_won.select('team').collect()]\n",
        "\n",
        "plt.plot(team1, game_won1)\n",
        "\n",
        "plt.ylabel('game_won')\n",
        "plt.xlabel('team')\n",
        "plt.title('team vs game_won')\n",
        "#plt.legend(['current_salary'], loc='upper left')\n",
        "\n",
        "plt.show()"
      ],
      "metadata": {
        "colab": {
          "base_uri": "https://localhost:8080/",
          "height": 295
        },
        "id": "IMWl7O2h2qLK",
        "outputId": "32a0315c-155e-4549-9a81-852936805d44"
      },
      "execution_count": null,
      "outputs": [
        {
          "output_type": "display_data",
          "data": {
            "image/png": "[encoded data removed]",
            "text/plain": [
              "<Figure size 432x288 with 1 Axes>"
            ]
          },
          "metadata": {
            "needs_background": "light"
          }
        }
      ]
    },
    {
      "cell_type": "code",
      "source": [
        "#more students come from which school\n",
        "import matplotlib.pyplot as plt\n",
        "df_profiles = spark.read.format(\"json\").load(\"/content/gdrive/MyDrive/profiles.json\")\n",
        "df_profiles.createOrReplaceTempView('df_profiles')\n",
        "\n",
        "df_res = spark.sql('select college,count(*) as number_of_students from df_profiles where college <> \"none\" group by college order by number_of_students desc limit 5').show()\n"
      ],
      "metadata": {
        "colab": {
          "base_uri": "https://localhost:8080/"
        },
        "id": "5giSE74Lnsnu",
        "outputId": "bf4506d2-4dd2-4474-b270-00476e4e2ebe"
      },
      "execution_count": null,
      "outputs": [
        {
          "output_type": "stream",
          "name": "stdout",
          "text": [
            "+----------+------------------+\n",
            "|   college|number_of_students|\n",
            "+----------+------------------+\n",
            "|Notre Dame|               523|\n",
            "|       USC|               465|\n",
            "|  Ohio St.|               422|\n",
            "|  Michigan|               352|\n",
            "|  Penn St.|               345|\n",
            "+----------+------------------+\n",
            "\n"
          ]
        }
      ]
    },
    {
      "cell_type": "code",
      "source": [
        ""
      ],
      "metadata": {
        "id": "amnCzidg-MF4"
      },
      "execution_count": null,
      "outputs": []
    }
  ]
}